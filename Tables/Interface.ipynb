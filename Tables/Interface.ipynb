{
 "cells": [
  {
   "cell_type": "code",
   "execution_count": null,
   "metadata": {},
   "outputs": [],
   "source": [
    "import os\n",
    "import cv2\n",
    "from ultralyticsplus import YOLO,render_result\n",
    "import TableValues as tv \n",
    "import JsonMaker\n",
    "\n",
    "# load model\n",
    "model = YOLO('foduucom/table-detection-and-extraction')\n",
    "\n",
    "# set model parameters\n",
    "model.overrides['conf'] = 0.1  # NMS confidence threshold\n",
    "model.overrides['iou'] = 0.3  # NMS IoU threshold\n",
    "model.overrides['agnostic_nms'] = True  # NMS class-agnostic\n",
    "model.overrides['max_det'] = 1000  # maximum number of detections per image\n",
    "def Table(image_path):\n",
    "# set image\n",
    "    \n",
    "    image = cv2.imread(image_path)\n",
    "\n",
    "    # perform inference\n",
    "    results = model.predict(image_path)\n",
    "\n",
    "    # create output folder if not exists\n",
    "    output_folder = 'tables'\n",
    "    os.makedirs(output_folder, exist_ok=True)\n",
    "\n",
    "    # process each detected table\n",
    "    for i, result in enumerate(results[0].boxes):\n",
    "        # get bounding box coordinates (x1, y1, x2, y2)\n",
    "        x1, y1, x2, y2 = result.xyxy[0].int().numpy()\n",
    "        \n",
    "        # crop the table from the image\n",
    "        cropped_table = image[y1:y2, x1:x2]\n",
    "        \n",
    "        # save the cropped table\n",
    "        output_path = os.path.join(output_folder, f'Table_{i+1}.jpg')\n",
    "        \n",
    "        cv2.imwrite(output_path, cropped_table)\n",
    "        tv.values(output_path,f'Tables\\Table_{i+1}.csv')\n",
    "        JsonMaker.mJson(f'Tables\\Table_{i+1}.csv',f'Tables\\Table_{i+1}.json')\n",
    "    print(f\"{len(results[0].boxes)} tables saved to {output_folder} folder.\")\n",
    "\n",
    "# set image\n",
    "image = 'temp_image.jpg'\n",
    "\n",
    "# perform inference\n",
    "results = model.predict(image)\n",
    "\n",
    "# observe results\n",
    "print(results[0].boxes)\n",
    "render = render_result(model=model, image=image, result=results[0])\n",
    "render.show()\n"
   ]
  }
 ],
 "metadata": {
  "kernelspec": {
   "display_name": "InTable",
   "language": "python",
   "name": "python3"
  },
  "language_info": {
   "name": "python",
   "version": "3.11.9"
  }
 },
 "nbformat": 4,
 "nbformat_minor": 2
}
